{
 "cells": [
  {
   "cell_type": "markdown",
   "id": "00ea3b9f-4a89-40f6-813a-749a89488f9f",
   "metadata": {},
   "source": [
    "# Tutorial 2: Highlighting\n",
    "\n",
    "Following the parametrization of phenylmethanimine in Tutorial 1, let's visualize the correspondance between atoms and coarse-grained beads. \n",
    "\n",
    "First let's import a number of packages, especially `auto_martini`, various `rdkit` submodules, as well as `IPython.display.Image` to visualize an image in the notebook, and `numpy`."
   ]
  },
  {
   "cell_type": "code",
   "execution_count": 1,
   "id": "211fd857-0c96-4051-89d6-ec51fdb2f283",
   "metadata": {},
   "outputs": [
    {
     "name": "stdout",
     "output_type": "stream",
     "text": [
      "2019.09.3\n"
     ]
    },
    {
     "name": "stderr",
     "output_type": "stream",
     "text": [
      "RDKit WARNING: [13:10:04] Enabling RDKit 2019.09.3 jupyter extensions\n"
     ]
    }
   ],
   "source": [
    "import auto_martini as am\n",
    "import numpy as np\n",
    "from rdkit import Chem\n",
    "from rdkit.Chem.Draw import IPythonConsole\n",
    "from IPython.display import Image\n",
    "import rdkit\n",
    "from rdkit.Chem import Draw\n",
    "from rdkit.Chem import AllChem\n",
    "from rdkit.Chem import rdDepictor\n",
    "from rdkit.Chem.Draw import rdMolDraw2D\n",
    "print(rdkit.__version__)"
   ]
  },
  {
   "cell_type": "markdown",
   "id": "13c930bc-bcd6-49a3-919d-d8605f964e13",
   "metadata": {},
   "source": [
    "# Parametrization (recap of Tutorial 1)\n",
    "\n",
    "We'll rerun the parametrization performed in Tutorial 1."
   ]
  },
  {
   "cell_type": "code",
   "execution_count": 2,
   "id": "8bedc4bf-8635-47f7-a922-f732dc532b43",
   "metadata": {},
   "outputs": [
    {
     "data": {
      "image/png": "[encoded data removed]",
      "text/plain": [
       "<rdkit.Chem.rdchem.Mol at 0x7fcb903ba1c0>"
      ]
     },
     "execution_count": 2,
     "metadata": {},
     "output_type": "execute_result"
    }
   ],
   "source": [
    "smiles = \"N=Cc1ccccc1\"\n",
    "mol = Chem.MolFromSmiles(smiles)\n",
    "Chem.AddHs(mol)\n",
    "AllChem.EmbedMolecule(mol)\n",
    "mol"
   ]
  },
  {
   "cell_type": "code",
   "execution_count": 3,
   "id": "6ea3bfc7-8b7d-4d37-a2ab-2c8154b85c99",
   "metadata": {},
   "outputs": [
    {
     "name": "stdout",
     "output_type": "stream",
     "text": [
      "Converged to solution in 1 iteration(s)\n"
     ]
    }
   ],
   "source": [
    "# Load the molecule in auto_martini and coarse-grain it\n",
    "mol_am, _ = am.topology.gen_molecule_smi(smiles)\n",
    "cg = am.solver.Cg_molecule(mol_am, \"PHM\")"
   ]
  },
  {
   "cell_type": "markdown",
   "id": "fe9aef7b-4d7e-4922-a5d9-67328d05edb8",
   "metadata": {},
   "source": [
    "# Highlighting atoms and CG beads\n",
    "\n",
    "To link atoms to coarse-grained beads, it's useful to have a look at a few `Cg_molecule` attributes:\n",
    "- `cg.list_heavyatom_names`: lists the chemical elements of each heavy atom\n",
    "- `cg.cg_bead_names`: lists the CG bead names\n",
    "- `cg.atom_partitioning`: dictionary relating atom ID to CG bead ID.\n",
    "We'll mostly make use of the last one, here"
   ]
  },
  {
   "cell_type": "code",
   "execution_count": 4,
   "id": "90f4725d-6d94-4e25-bc39-3ec037654341",
   "metadata": {},
   "outputs": [
    {
     "name": "stdout",
     "output_type": "stream",
     "text": [
      "list_heavyatom_names: ['N', 'C', 'C', 'C', 'C', 'C', 'C', 'C']\n",
      "cg_bead_names:        ['S01', 'S02', 'S03']\n",
      "atom_partitioning:    {0: 0, 1: 0, 2: 0, 3: 1, 4: 1, 5: 1, 6: 2, 7: 2}\n"
     ]
    }
   ],
   "source": [
    "print(\"list_heavyatom_names:\",cg.list_heavyatom_names)\n",
    "print(\"cg_bead_names:       \",cg.cg_bead_names)\n",
    "print(\"atom_partitioning:   \",cg.atom_partitioning)"
   ]
  },
  {
   "cell_type": "markdown",
   "id": "fc939b9d-c622-4021-900a-3bab8b0d4f60",
   "metadata": {},
   "source": [
    "We'll want to color atoms according to beads, so let's define a color palette"
   ]
  },
  {
   "cell_type": "code",
   "execution_count": 5,
   "id": "2fd82df6-f7ba-4536-85b1-650d7011be54",
   "metadata": {},
   "outputs": [],
   "source": [
    "colors = [(0.121, 0.466, 0.705), (1.0, 0.498, 0.0549), (0.172, 0.627, 0.172)]"
   ]
  },
  {
   "cell_type": "markdown",
   "id": "1011b43e-02ca-42be-954c-36d809eceb6a",
   "metadata": {},
   "source": [
    "`rdkit` offers convenient rendering functions to highlight particular atoms and bonds. We will color heavy atoms involved in a particular CG bead. First let's focus on atoms: for each atom we want the CG bead ID it maps to. This is simply obtained from the `keys()` of the `atom_partinioning` dictionary. As for the colors, we can use the `colors` array defined above."
   ]
  },
  {
   "cell_type": "code",
   "execution_count": 6,
   "id": "ddf0db04-e075-4924-bb9e-9dc44aace53c",
   "metadata": {},
   "outputs": [],
   "source": [
    "hit_ats = list(cg.atom_partitioning.keys())\n",
    "atom_cols = {}\n",
    "for i, at in enumerate(hit_ats):\n",
    "    atom_cols[at] = colors[cg.atom_partitioning[i]%4]"
   ]
  },
  {
   "cell_type": "markdown",
   "id": "6012bfe3-d66e-45ed-99bc-120fa58e6b36",
   "metadata": {},
   "source": [
    "Same for bonds. `rdkit` here comes to the rescue, because it keeps track of which heavy atoms are connected by bonds."
   ]
  },
  {
   "cell_type": "code",
   "execution_count": 7,
   "id": "b629caf9-92a6-439d-9781-f37d3ba56dbb",
   "metadata": {},
   "outputs": [],
   "source": [
    "hit_bonds = []\n",
    "bond_cols = {}\n",
    "for i, at in enumerate(hit_ats):\n",
    "    for j, att in enumerate(hit_ats):\n",
    "        if i > j and atom_cols[i] == atom_cols[j] and mol.GetBondBetweenAtoms(i,j):\n",
    "            b_idx = mol.GetBondBetweenAtoms(i,j).GetIdx()\n",
    "            hit_bonds.append(b_idx)\n",
    "            bond_cols[b_idx] = colors[cg.atom_partitioning[i]%4]"
   ]
  },
  {
   "cell_type": "markdown",
   "id": "1c7d0046-b657-4833-b148-42fb9aa81f61",
   "metadata": {},
   "source": [
    "We now have all the necessary ingredients to render a molecule with the appropriate atom and bond highlighting. Here we use the `rdMolDraw2D` from `rdkit`. We'll save this to a file, and render the file in the notebook:"
   ]
  },
  {
   "cell_type": "code",
   "execution_count": 8,
   "id": "e4326f95-f98e-4116-ab18-784c898d1af3",
   "metadata": {},
   "outputs": [],
   "source": [
    "d = rdMolDraw2D.MolDraw2DCairo(400,400)\n",
    "rdMolDraw2D.PrepareAndDrawMolecule(d, mol, \n",
    "                                   highlightAtoms=hit_ats,\n",
    "                                  highlightAtomColors=atom_cols,\n",
    "                                  highlightBonds=hit_bonds,\n",
    "                                  highlightBondColors=bond_cols)\n",
    "d.DrawMolecule(mol)\n",
    "d.FinishDrawing()\n",
    "d.WriteDrawingText('phm_highlight.png')"
   ]
  },
  {
   "cell_type": "code",
   "execution_count": 9,
   "id": "b1826846-c10f-4181-910e-434a3d8c3fad",
   "metadata": {},
   "outputs": [
    {
     "data": {
      "image/png": "[encoded data removed]",
      "text/plain": [
       "<IPython.core.display.Image object>"
      ]
     },
     "execution_count": 9,
     "metadata": {},
     "output_type": "execute_result"
    }
   ],
   "source": [
    "Image('phm_highlight.png')"
   ]
  },
  {
   "cell_type": "markdown",
   "id": "74d872a0-5fc4-4a21-a643-12f0d341baa8",
   "metadata": {},
   "source": [
    "# Conclusions\n",
    "\n",
    "`auto_martini` offers a way to relate atoms to CG beads. The combination with `rdkit` allows you to visualize how atoms get mapped onto CG beads."
   ]
  }
 ],
 "metadata": {
  "kernelspec": {
   "display_name": "Python 3",
   "language": "python",
   "name": "python3"
  },
  "language_info": {
   "codemirror_mode": {
    "name": "ipython",
    "version": 3
   },
   "file_extension": ".py",
   "mimetype": "text/x-python",
   "name": "python",
   "nbconvert_exporter": "python",
   "pygments_lexer": "ipython3",
   "version": "3.8.5"
  }
 },
 "nbformat": 4,
 "nbformat_minor": 5
}
