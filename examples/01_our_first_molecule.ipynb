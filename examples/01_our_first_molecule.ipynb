{
 "cells": [
  {
   "cell_type": "markdown",
   "id": "6cbc5d8b-dc2f-4a69-a5a8-07f890dfae45",
   "metadata": {},
   "source": [
    "# Tutorial 1: Parametrizing our first molecule\n",
    "\n",
    "Let's parametrize our first molecule with `auto_martini`. \n",
    "\n",
    "We will focus on phenylmethanimine. Feeding only its SMILES string (`N=Cc1ccccc1`), `auto_martini` will output a coarse-grained topology file (`.top`), and both atomistic and coarse-grained coordinate files (`.gro`). All files are compatible with the [GROMACS](https://www.gromacs.org) molecular dynamics software. We will also use `rdkit` to render the molecular structure, and where the CG beads map."
   ]
  },
  {
   "cell_type": "code",
   "execution_count": 3,
   "id": "d842c6e2-96b3-40cf-b796-622b37d4a663",
   "metadata": {},
   "outputs": [
    {
     "name": "stdout",
     "output_type": "stream",
     "text": [
      "2019.09.3\n"
     ]
    }
   ],
   "source": [
    "import auto_martini as am\n",
    "import rdkit\n",
    "from rdkit import Chem\n",
    "from rdkit.Chem import Draw\n",
    "from rdkit.Chem import AllChem\n",
    "print(rdkit.__version__)"
   ]
  },
  {
   "cell_type": "markdown",
   "id": "5dcd3ecb-2373-4cb9-bb4d-12168373ce64",
   "metadata": {},
   "source": [
    "# Atomistic structure of the molecule\n",
    "\n",
    "We first feed in the SMILES string of phenylmethanimine into the `rdkit` to render its 2-dimensional structure. This includes adding hydrogens to the molecule."
   ]
  },
  {
   "cell_type": "code",
   "execution_count": 4,
   "id": "e3d8a85e-c04d-4c47-96a0-59fb2c2e96e1",
   "metadata": {},
   "outputs": [
    {
     "data": {
      "image/png": "[encoded data removed]",
      "text/plain": [
       "<rdkit.Chem.rdchem.Mol at 0x7ff5fa075260>"
      ]
     },
     "execution_count": 4,
     "metadata": {},
     "output_type": "execute_result"
    }
   ],
   "source": [
    "smiles = \"N=Cc1ccccc1\"\n",
    "mol = Chem.MolFromSmiles(smiles)\n",
    "Chem.AddHs(mol)\n",
    "AllChem.EmbedMolecule(mol)\n",
    "mol"
   ]
  },
  {
   "cell_type": "markdown",
   "id": "dc0f3949-662e-45b6-b9ec-2ded7b8f2001",
   "metadata": {},
   "source": [
    "`auto_martini` has its own function to read in a SMILES string, create a *3-dimensional* conformer, and return an `rdkit` molecule object. We'll use that here:"
   ]
  },
  {
   "cell_type": "code",
   "execution_count": 6,
   "id": "3ea910f7-4896-4491-b009-9e3684565213",
   "metadata": {},
   "outputs": [],
   "source": [
    "mol_am, _ = am.topology.gen_molecule_smi(smiles)"
   ]
  },
  {
   "cell_type": "markdown",
   "id": "e5b4f8cc-9936-458c-a61d-9b35e44ce06c",
   "metadata": {},
   "source": [
    "We feed in the `rdkit` molecule object `mol_am` into the `auto_martini` solver. This is reponsible to analyze the molecular structure, map it to coarse-grain beads, and determine both intra and intermolecular interactions. We'll call our molecule `PHM`. This should only take a couple seconds to run. \n",
    "\n",
    "(Expect the code to take much longer once you work with much larger molecules, due to the way it combinatorially tries out coarse-grained bead placements. The code currently does not run well beyond $\\approx 20$ heavy (non-hydrogen) atoms.)"
   ]
  },
  {
   "cell_type": "code",
   "execution_count": 7,
   "id": "569efe8f-0dd2-4a0b-b164-6e9a2a73a740",
   "metadata": {},
   "outputs": [
    {
     "name": "stdout",
     "output_type": "stream",
     "text": [
      "Converged to solution in 1 iteration(s)\n"
     ]
    }
   ],
   "source": [
    "cg = am.solver.Cg_molecule(mol_am, \"PHM\")"
   ]
  },
  {
   "cell_type": "markdown",
   "id": "9817c0a7-5bdf-49ff-847f-86a7ad45b1dd",
   "metadata": {},
   "source": [
    "This is it! Now attributes of the object `cg` contain the coarse-grained force field. \n",
    "\n",
    "First the topology, where the following would typically be saved to a `.top` file for a GROMACS simulation. It displays 3 coarse-grained beads, two of which are identical and one is different (due to the terminal group). These three beads are covalently bonded by constraints, due to the aromatic ring."
   ]
  },
  {
   "cell_type": "code",
   "execution_count": 8,
   "id": "90f809ce-effe-49a9-82a8-cfb5f6f2d0e5",
   "metadata": {},
   "outputs": [
    {
     "name": "stdout",
     "output_type": "stream",
     "text": [
      "; GENERATED WITH auto_Martini vv0.1.0+0.gdf328d2.dirty for PHM\n",
      "; Developed by: Kiran Kanekal, Tristan Bereau, and Andrew Abi-Mansour\n",
      "\n",
      "[moleculetype]\n",
      "; molname       nrexcl\n",
      "  PHM           2\n",
      "\n",
      "[atoms]\n",
      "; id    type    resnr   residue  atom    cgnr    charge  smiles\n",
      "    1     SNd     1     PHM       S01     1         0   ; N=Cc1ccccc1\n",
      "    2     SC5     1     PHM       S02     2         0   ; c1ccccc1\n",
      "    3     SC5     1     PHM       S03     3         0   ; c1ccccc1\n",
      "\n",
      "\n",
      "[constraints]\n",
      ";  i   j     funct   length\n",
      "   1   2     1       0.24\n",
      "   1   3     1       0.24\n",
      "   2   3     1       0.24\n",
      "\n"
     ]
    }
   ],
   "source": [
    "print(cg.topout)"
   ]
  },
  {
   "cell_type": "markdown",
   "id": "68023f8e-75fb-4d8a-b6ed-7159a2cc1fbb",
   "metadata": {},
   "source": [
    "That's not it. For an MD simulation, we will also need a coarse-grained coordinate file (`.gro`). Use the `output_cg` function, and make sure to use the same molecule name used in the topology file. The function `output_cg` also optionally allows you to directly save this to a text file, by specifying the file name in the option`cg_output`.\n",
    "\n",
    "The `10.00000  10.00000  10.00000` at the bottom of the file are simple placeholders for the box size."
   ]
  },
  {
   "cell_type": "code",
   "execution_count": 9,
   "id": "45b7a6b4-f2a6-4dd9-9b14-96422031addd",
   "metadata": {},
   "outputs": [
    {
     "name": "stdout",
     "output_type": "stream",
     "text": [
      "PHM generated from auto_martini\n",
      "    3\n",
      "    1PHM    S01    1   0.026   0.009  -0.006\n",
      "    2PHM    S02    2   0.031   0.250  -0.042\n",
      "    3PHM    S03    3   0.111   0.159   0.167\n",
      "  10.00000  10.00000  10.00000\n",
      "\n"
     ]
    }
   ],
   "source": [
    "print(cg.output_cg(molname=\"PHM\"))"
   ]
  },
  {
   "cell_type": "markdown",
   "id": "eea49d8c-482f-419c-b0c7-092d86475ef6",
   "metadata": {},
   "source": [
    "Same thing if you're interested in getting an *atomistic* coordinate file, also `.gro`:"
   ]
  },
  {
   "cell_type": "code",
   "execution_count": 10,
   "id": "221c554f-00aa-47d5-a661-b93387952fb5",
   "metadata": {},
   "outputs": [
    {
     "name": "stdout",
     "output_type": "stream",
     "text": [
      "PHM generated from auto_martini\n",
      "    8\n",
      "    1PHM    N      1   0.010  -0.235   0.007\n",
      "    2PHM    C      2  -0.008  -0.125  -0.059\n",
      "    3PHM    C      3   0.026   0.009  -0.006\n",
      "    4PHM    C      4   0.001   0.121  -0.087\n",
      "    5PHM    C      5   0.031   0.250  -0.042\n",
      "    6PHM    C      6   0.086   0.269   0.085\n",
      "    7PHM    C      7   0.111   0.159   0.167\n",
      "    8PHM    C      8   0.082   0.030   0.123\n",
      "  10.00000  10.00000  10.00000\n",
      "\n"
     ]
    }
   ],
   "source": [
    "print(cg.output_aa(molname=\"PHM\"))"
   ]
  },
  {
   "cell_type": "markdown",
   "id": "a93209da-c7ba-4e01-9803-7ded7f7b1d8c",
   "metadata": {},
   "source": [
    "# Conclusions\n",
    "\n",
    "That's it! Congratulations on completing this first tutorial. You have parametrized your first molecule with `auto_martini`. In the second tutorial, we'll have a visual look at which atoms got mapped on which coarse-grained beads."
   ]
  },
  {
   "cell_type": "code",
   "execution_count": null,
   "id": "38352a10-a884-4bc4-b9ca-40138a02bd2e",
   "metadata": {},
   "outputs": [],
   "source": []
  }
 ],
 "metadata": {
  "kernelspec": {
   "display_name": "Python 3",
   "language": "python",
   "name": "python3"
  },
  "language_info": {
   "codemirror_mode": {
    "name": "ipython",
    "version": 3
   },
   "file_extension": ".py",
   "mimetype": "text/x-python",
   "name": "python",
   "nbconvert_exporter": "python",
   "pygments_lexer": "ipython3",
   "version": "3.8.5"
  }
 },
 "nbformat": 4,
 "nbformat_minor": 5
}
